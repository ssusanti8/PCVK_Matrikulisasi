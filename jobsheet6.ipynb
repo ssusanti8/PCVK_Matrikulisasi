{
  "nbformat": 4,
  "nbformat_minor": 0,
  "metadata": {
    "colab": {
      "name": "jobsheet6.ipynb",
      "provenance": [],
      "authorship_tag": "ABX9TyMG53KaqEdeUE8F0lko3FeF",
      "include_colab_link": true
    },
    "kernelspec": {
      "name": "python3",
      "display_name": "Python 3"
    },
    "language_info": {
      "name": "python"
    }
  },
  "cells": [
    {
      "cell_type": "markdown",
      "metadata": {
        "id": "view-in-github",
        "colab_type": "text"
      },
      "source": [
        "<a href=\"https://colab.research.google.com/github/ssusanti8/PCVK_Matrikulisasi/blob/main/jobsheet6.ipynb\" target=\"_parent\"><img src=\"https://colab.research.google.com/assets/colab-badge.svg\" alt=\"Open In Colab\"/></a>"
      ]
    },
    {
      "cell_type": "code",
      "execution_count": null,
      "metadata": {
        "id": "I3scId4WBx0_"
      },
      "outputs": [],
      "source": [
        ""
      ]
    }
  ]
}